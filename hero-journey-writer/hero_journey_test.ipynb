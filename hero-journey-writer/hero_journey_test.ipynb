{
 "cells": [
  {
   "cell_type": "markdown",
   "metadata": {},
   "source": [
    "# Hero Journey Writer - Test Notebook\n",
    "\n",
    "Esta notebook nos permitirá probar y visualizar el funcionamiento de nuestro Hero Journey Writer."
   ]
  },
  {
   "cell_type": "code",
   "execution_count": 1,
   "metadata": {},
   "outputs": [],
   "source": [
    "import os\n",
    "import sys\n",
    "import ipywidgets as widgets\n",
    "from IPython.display import display\n",
    "sys.path.append('..')\n",
    "\n",
    "from dotenv import load_dotenv\n",
    "from langchain_anthropic import ChatAnthropic\n",
    "from src.graph.hero_journey_graph import create_hero_journey_graph\n",
    "from src.ui.cli import initialize_story, handle_user_interaction\n",
    "\n",
    "# Cargar variables de entorno\n",
    "load_dotenv()\n",
    "\n",
    "# Inicializar el modelo de lenguaje\n",
    "anthropic_api_key = os.getenv(\"ANTHROPIC_API_KEY\")\n",
    "if not anthropic_api_key:\n",
    "    raise ValueError(\"Please set the ANTHROPIC_API_KEY environment variable\")\n",
    "\n",
    "llm = ChatAnthropic(model=\"claude-3-opus-20240229\", api_key=anthropic_api_key)\n",
    "\n",
    "# Crear el grafo del viaje del héroe\n",
    "graph = create_hero_journey_graph(llm)"
   ]
  },
  {
   "cell_type": "markdown",
   "metadata": {},
   "source": [
    "## Visualización del Grafo\n",
    "\n",
    "Vamos a visualizar la estructura de nuestro grafo del viaje del héroe."
   ]
  },
  {
   "cell_type": "code",
   "execution_count": 2,
   "metadata": {},
   "outputs": [
    {
     "data": {
      "image/jpeg": "[encoded data removed]",
      "text/plain": [
       "<IPython.core.display.Image object>"
      ]
     },
     "metadata": {},
     "output_type": "display_data"
    }
   ],
   "source": [
    "from IPython.display import Image, display\n",
    "\n",
    "# Generar y mostrar la imagen del grafo\n",
    "graph_image = graph.get_graph().draw_mermaid_png()\n",
    "display(Image(graph_image))"
   ]
  },
  {
   "cell_type": "markdown",
   "metadata": {},
   "source": [
    "## Prueba del Flujo de la Historia\n",
    "\n",
    "Ahora vamos a simular el flujo de creación de una historia."
   ]
  },
  {
   "cell_type": "code",
   "execution_count": null,
   "metadata": {},
   "outputs": [],
   "source": []
  },
  {
   "cell_type": "code",
   "execution_count": 3,
   "metadata": {},
   "outputs": [
    {
     "name": "stdout",
     "output_type": "stream",
     "text": [
      "Welcome to the Hero's Journey Story Writer!\n",
      "Let's begin by creating your hero and their world.\n",
      "What is your hero's name?\n"
     ]
    }
   ],
   "source": [
    "import ipywidgets as widgets\n",
    "from IPython.display import display\n",
    "\n",
    "# Supongamos que estas funciones están definidas en tu código\n",
    "# initialize_story, graph.invoke, handle_user_interaction\n",
    "\n",
    "def run_story():\n",
    "    try:\n",
    "        state = initialize_story()\n",
    "        \n",
    "        while state['current_stage'] != 'conclusion':\n",
    "            print(f\"Etapa actual: {state['current_stage']}\")\n",
    "            state = graph.invoke(state)\n",
    "            print(f\"Historia generada:\\n{state['story']}\\n\")\n",
    "            \n",
    "            if state['current_stage'] == 'middle':\n",
    "                state['enemies'].append(\"El Dragón Cobarde\")\n",
    "                state['items'].append(\"Espada de la Valentía\")\n",
    "            elif state['current_stage'] == 'climax':\n",
    "                # Crear un dropdown para seleccionar la opción en el clímax\n",
    "                climax_choice_widget = widgets.Dropdown(\n",
    "                    options=[('Enfrentar el desafío de frente', '1'), ('Huir del desafío', '2')],\n",
    "                    value='1',\n",
    "                    description='Elección:',\n",
    "                )\n",
    "                display(climax_choice_widget)\n",
    "                \n",
    "                def on_climax_choice_change(change):\n",
    "                    state['climax_choice'] = change['new']\n",
    "                    state = handle_user_interaction(state)\n",
    "                    # Continuar la historia\n",
    "                    run_story()\n",
    "                \n",
    "                climax_choice_widget.observe(on_climax_choice_change, names='value')\n",
    "                return  # Salir de la función para esperar la interacción del usuario\n",
    "\n",
    "            state = handle_user_interaction(state)\n",
    "\n",
    "        print(\"Historia final:\")\n",
    "        print(state['story'])\n",
    "    except Exception as e:\n",
    "        print(f\"Se produjo un error: {e}\")\n",
    "        import traceback\n",
    "        print(traceback.format_exc())\n",
    "\n",
    "# Iniciar la historia\n",
    "run_story()\n"
   ]
  },
  {
   "cell_type": "code",
   "execution_count": null,
   "metadata": {},
   "outputs": [
    {
     "name": "stdout",
     "output_type": "stream",
     "text": [
      "Etapa actual: start\n",
      "Historia generada:\n",
      "Érase una vez...\n",
      "\n",
      "Etapa actual: middle\n",
      "Historia generada:\n",
      "Érase una vez...\n",
      "\n"
     ]
    },
    {
     "ename": "",
     "evalue": "",
     "output_type": "error",
     "traceback": [
      "\u001b[1;31mThe Kernel crashed while executing code in the current cell or a previous cell. \n",
      "\u001b[1;31mPlease review the code in the cell(s) to identify a possible cause of the failure. \n",
      "\u001b[1;31mClick <a href='https://aka.ms/vscodeJupyterKernelCrash'>here</a> for more info. \n",
      "\u001b[1;31mView Jupyter <a href='command:jupyter.viewOutput'>log</a> for further details."
     ]
    }
   ],
   "source": [
    "import ipywidgets as widgets\n",
    "from IPython.display import display\n",
    "from ipywidgets import interact\n",
    "\n",
    "# Simulamos las funciones iniciales para que el ejemplo sea completo\n",
    "def initialize_story():\n",
    "    return {\n",
    "        'current_stage': 'start',\n",
    "        'story': 'Érase una vez...',\n",
    "        'enemies': [],\n",
    "        'items': [],\n",
    "        'climax_choice': None,\n",
    "        'protagonist': 'Héroe',\n",
    "        'ally': 'Aliado'\n",
    "    }\n",
    "\n",
    "def invoke(state):\n",
    "    # Simulamos el avance de las etapas\n",
    "    if state['current_stage'] == 'start':\n",
    "        state['current_stage'] = 'middle'\n",
    "    elif state['current_stage'] == 'middle':\n",
    "        state['current_stage'] = 'climax'\n",
    "    elif state['current_stage'] == 'climax':\n",
    "        state['current_stage'] = 'conclusion'\n",
    "    return state\n",
    "\n",
    "def handle_user_interaction(state):\n",
    "    # Simulamos la interacción del usuario\n",
    "    if state['climax_choice']:\n",
    "        state['story'] += f\"\\nEl héroe decidió {state['climax_choice']}.\"\n",
    "    return state\n",
    "\n",
    "def run_story():\n",
    "    state = initialize_story()\n",
    "    \n",
    "    while state['current_stage'] != 'conclusion':\n",
    "        print(f\"Etapa actual: {state['current_stage']}\")\n",
    "        state = invoke(state)\n",
    "        print(f\"Historia generada:\\n{state['story']}\\n\")\n",
    "        \n",
    "        if state['current_stage'] == 'middle':\n",
    "            state['enemies'].append(\"El Dragón Cobarde\")\n",
    "            state['items'].append(\"Espada de la Valentía\")\n",
    "        \n",
    "        elif state['current_stage'] == 'climax':\n",
    "            @interact(climax_choice=[\"Enfrentar el desafío de frente\", \"Huir del desafío\"])\n",
    "            def choose_climax(climax_choice):\n",
    "                state['climax_choice'] = climax_choice\n",
    "                run_story_interactive(state)\n",
    "                return\n",
    "\n",
    "    print(\"Historia final:\")\n",
    "    print(state['story'])\n",
    "\n",
    "def run_story_interactive(state):\n",
    "    state = handle_user_interaction(state)\n",
    "    run_story()\n",
    "\n",
    "# Iniciar la historia\n",
    "run_story()\n",
    "\n"
   ]
  },
  {
   "cell_type": "code",
   "execution_count": 4,
   "metadata": {},
   "outputs": [
    {
     "name": "stdout",
     "output_type": "stream",
     "text": [
      "Welcome to the Hero's Journey Story Writer!\n",
      "Let's begin by creating your hero and their world.\n",
      "What is your hero's name?\n"
     ]
    }
   ],
   "source": [
    "try:\n",
    "    # Tu código aquí\n",
    "    state = initialize_story()\n",
    "    \n",
    "    while state['current_stage'] != 'conclusion':\n",
    "        print(f\"Etapa actual: {state['current_stage']}\")\n",
    "        state = graph.invoke(state)\n",
    "        print(f\"Historia generada:\\n{state['story']}\\n\")\n",
    "        \n",
    "        # Simular la interacción del usuario\n",
    "        if state['current_stage'] == 'middle':\n",
    "            state['enemies'].append(\"El Dragón Cobarde\")\n",
    "            state['items'].append(\"Espada de la Valentía\")\n",
    "        elif state['current_stage'] == 'climax':\n",
    "            state['climax_choice'] = \"1\"  # Enfrentar el desafío de frente\n",
    "        \n",
    "        state = handle_user_interaction(state)\n",
    "\n",
    "    print(\"Historia final:\")\n",
    "    print(state['story'])\n",
    "except Exception as e:\n",
    "    print(f\"Se produjo un error: {e}\")\n",
    "    import traceback\n",
    "    print(traceback.format_exc())"
   ]
  },
  {
   "cell_type": "markdown",
   "metadata": {},
   "source": [
    "## Análisis del Estado Final\n",
    "\n",
    "Veamos el estado final de nuestra historia."
   ]
  },
  {
   "cell_type": "code",
   "execution_count": 1,
   "metadata": {},
   "outputs": [
    {
     "name": "stderr",
     "output_type": "stream",
     "text": [
      "UsageError: Line magic function `%jupyter` not found.\n"
     ]
    }
   ],
   "source": []
  },
  {
   "cell_type": "code",
   "execution_count": null,
   "metadata": {},
   "outputs": [],
   "source": [
    "print(f\"Estado final:\\n{state}\")"
   ]
  },
  {
   "cell_type": "code",
   "execution_count": null,
   "metadata": {},
   "outputs": [],
   "source": []
  }
 ],
 "metadata": {
  "kernelspec": {
   "display_name": "Python 3",
   "language": "python",
   "name": "python3"
  },
  "language_info": {
   "codemirror_mode": {
    "name": "ipython",
    "version": 3
   },
   "file_extension": ".py",
   "mimetype": "text/x-python",
   "name": "python",
   "nbconvert_exporter": "python",
   "pygments_lexer": "ipython3",
   "version": "3.10.11"
  }
 },
 "nbformat": 4,
 "nbformat_minor": 2
}
